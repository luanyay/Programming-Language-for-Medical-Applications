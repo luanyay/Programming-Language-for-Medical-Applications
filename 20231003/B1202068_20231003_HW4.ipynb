{
  "nbformat": 4,
  "nbformat_minor": 0,
  "metadata": {
    "colab": {
      "provenance": []
    },
    "kernelspec": {
      "name": "python3",
      "display_name": "Python 3"
    },
    "language_info": {
      "name": "python"
    }
  },
  "cells": [
    {
      "cell_type": "code",
      "execution_count": 2,
      "metadata": {
        "colab": {
          "base_uri": "https://localhost:8080/"
        },
        "id": "FFoucIq5xeDE",
        "outputId": "e6e25f9c-8ec7-4e96-bcd1-44964e137a2c"
      },
      "outputs": [
        {
          "output_type": "stream",
          "name": "stdout",
          "text": [
            "10 50 30 20 100\n",
            "33.333333333333336\n"
          ]
        }
      ],
      "source": [
        "#HW4第一題\n",
        "a=input()\n",
        "a=a.split(' ')\n",
        "a=list(map(int,a))\n",
        "a.remove(max(a))\n",
        "a.remove(min(a))\n",
        "print(sum(a)/len(a))"
      ]
    },
    {
      "cell_type": "code",
      "source": [
        "#HW4第二題\n",
        "a=int(input())\n",
        "b=int(input())\n",
        "k=str(input())\n",
        "if k==\"+\":\n",
        "  print(a+b)\n",
        "if k==\"-\":\n",
        "  print(a-b)\n",
        "if k==\"*\":\n",
        "  print(a*b)\n",
        "if k==\"/\":\n",
        "  print(a/b)"
      ],
      "metadata": {
        "colab": {
          "base_uri": "https://localhost:8080/"
        },
        "id": "3UV9g0YPxh_P",
        "outputId": "9a00f02f-0aac-4d8e-e0c9-d1a6af191266"
      },
      "execution_count": 5,
      "outputs": [
        {
          "output_type": "stream",
          "name": "stdout",
          "text": [
            "4\n",
            "7\n",
            "*\n",
            "28\n"
          ]
        }
      ]
    },
    {
      "cell_type": "code",
      "source": [
        "#HW4第三題\n",
        "y = int(input(\"請輸入年分\"))\n",
        "if y > 1582:\n",
        "  if y%400==0:\n",
        "    print(\"是閏年\")\n",
        "  elif y%4==0 and y%100!=0:\n",
        "    print(\"是閏年\")\n",
        "  else:\n",
        "    print(\"是平年\")\n",
        "elif y%4==0:\n",
        "  print(\"是閏年\")\n",
        "else:\n",
        "  print(\"是平年\")"
      ],
      "metadata": {
        "colab": {
          "base_uri": "https://localhost:8080/"
        },
        "id": "7ItNWv2QxlyV",
        "outputId": "16b56cd7-2951-4608-a83b-06cde734e3db"
      },
      "execution_count": 1,
      "outputs": [
        {
          "output_type": "stream",
          "name": "stdout",
          "text": [
            "請輸入年分1582\n",
            "是平年\n"
          ]
        }
      ]
    }
  ]
}