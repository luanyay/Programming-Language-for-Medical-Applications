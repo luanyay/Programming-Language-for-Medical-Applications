{
  "nbformat": 4,
  "nbformat_minor": 0,
  "metadata": {
    "colab": {
      "provenance": []
    },
    "kernelspec": {
      "name": "python3",
      "display_name": "Python 3"
    },
    "language_info": {
      "name": "python"
    }
  },
  "cells": [
    {
      "cell_type": "code",
      "execution_count": 1,
      "metadata": {
        "colab": {
          "base_uri": "https://localhost:8080/"
        },
        "id": "7qvE5GXrdo0M",
        "outputId": "e673c8eb-3feb-4cdf-8686-4394ac7a9f2e"
      },
      "outputs": [
        {
          "output_type": "stream",
          "name": "stdout",
          "text": [
            "A\n",
            "['K', 'H', 'U']\n"
          ]
        }
      ],
      "source": [
        "a = 'C,B,A'\n",
        "b = ['F','G','H']\n",
        "c = a.split(',')\n",
        "c += b\n",
        "c[0]='K'\n",
        "d =c.pop(2)\n",
        "print(d)\n",
        "del c[1:4]\n",
        "c.append('U')\n",
        "print(c)"
      ]
    },
    {
      "cell_type": "code",
      "source": [
        "height = float(input())\n",
        "weight = float(input())\n",
        "bmi = weight / height**2\n",
        "print (bmi)\n",
        "if bmi < 18.5:\n",
        "\n",
        "    print (\"體位:過輕\")\n",
        "\n",
        "\n",
        "if 18.5 <= bmi <24:\n",
        "\n",
        "    print (\"體位:適中\")\n",
        "\n",
        "\n",
        "if 24<= bmi <27:\n",
        "\n",
        "   print (\"體位:過重\")\n",
        "\n",
        "\n",
        "\n",
        "if bmi>=27:\n",
        "\n",
        "    print (\"體位:肥胖\")\n"
      ],
      "metadata": {
        "colab": {
          "base_uri": "https://localhost:8080/"
        },
        "id": "HBDeIYpwl1Dz",
        "outputId": "e268a2f7-7b06-4978-d11a-f9822b34208c"
      },
      "execution_count": 8,
      "outputs": [
        {
          "output_type": "stream",
          "name": "stdout",
          "text": [
            "1.62\n",
            "52\n",
            "19.81405273586343\n",
            "體位:適中\n"
          ]
        }
      ]
    }
  ]
}