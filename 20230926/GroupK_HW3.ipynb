{
  "nbformat": 4,
  "nbformat_minor": 0,
  "metadata": {
    "colab": {
      "provenance": []
    },
    "kernelspec": {
      "name": "python3",
      "display_name": "Python 3"
    },
    "language_info": {
      "name": "python"
    }
  },
  "cells": [
    {
      "cell_type": "code",
      "execution_count": 1,
      "metadata": {
        "colab": {
          "base_uri": "https://localhost:8080/"
        },
        "id": "nio8tQxXolae",
        "outputId": "6d18f771-d45b-4704-d2e2-144df92f8747"
      },
      "outputs": [
        {
          "output_type": "stream",
          "name": "stdout",
          "text": [
            "I'm a student.\n"
          ]
        }
      ],
      "source": [
        "#印出指定文字\n",
        "print (\"I'm a student.\")"
      ]
    },
    {
      "cell_type": "code",
      "source": [
        "#計算兩點距離\n",
        "x1, y1 = float(input(\"請輸入x1\")), float (input(\"請輸入y1\"))\n",
        "x2, y2 = float(input(\"請輸入x2\")), float (input(\"請輸入y2\"))\n",
        "d = ((x1-x2)**2 + (y1-y2)**2)**0.5\n",
        "print(d)"
      ],
      "metadata": {
        "colab": {
          "base_uri": "https://localhost:8080/"
        },
        "id": "7LuflZRopM7s",
        "outputId": "1ebb4bc4-1a0a-4825-a72c-ea1a99108cd8"
      },
      "execution_count": 4,
      "outputs": [
        {
          "output_type": "stream",
          "name": "stdout",
          "text": [
            "請輸入x11\n",
            "請輸入y12\n",
            "請輸入x24\n",
            "請輸入y26\n",
            "5.0\n"
          ]
        }
      ]
    },
    {
      "cell_type": "code",
      "source": [
        "#計算BMI值，並判斷是否小於18.5\n",
        "h, w = float (input(\"請輸入身高(公尺)\")), float (input(\"請輸入體重(公斤)\"))\n",
        "h *=h\n",
        "bmi = w/h\n",
        "print(bmi)\n",
        "print(int(bmi<18.5))"
      ],
      "metadata": {
        "colab": {
          "base_uri": "https://localhost:8080/"
        },
        "id": "UV7a7esUrlnr",
        "outputId": "a50047f8-22d8-4054-a6d3-4b90599aa6c8"
      },
      "execution_count": 9,
      "outputs": [
        {
          "output_type": "stream",
          "name": "stdout",
          "text": [
            "請輸入身高(公尺)1.520\n",
            "請輸入體重(公斤)44.0\n",
            "19.04432132963989\n",
            "0\n"
          ]
        }
      ]
    }
  ]
}