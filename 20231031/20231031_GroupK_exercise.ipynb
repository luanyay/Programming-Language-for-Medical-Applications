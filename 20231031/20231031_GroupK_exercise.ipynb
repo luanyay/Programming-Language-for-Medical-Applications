{
  "nbformat": 4,
  "nbformat_minor": 0,
  "metadata": {
    "colab": {
      "provenance": []
    },
    "kernelspec": {
      "name": "python3",
      "display_name": "Python 3"
    },
    "language_info": {
      "name": "python"
    }
  },
  "cells": [
    {
      "cell_type": "code",
      "source": [
        "a=int(input('請輸入大於1的正整數'))\n",
        "if (a>2):\n",
        "  x=0\n",
        "  for b in range(1,(a+1)):\n",
        "    n=0\n",
        "    for i in range(1,(b+1)):\n",
        "      if b%i==0:\n",
        "         n+=1\n",
        "    if n==2:\n",
        "       x=b\n",
        "  print(x)\n",
        "else:\n",
        "  print(\"錯誤\")"
      ],
      "metadata": {
        "colab": {
          "base_uri": "https://localhost:8080/"
        },
        "id": "FYtCwLw0pb17",
        "outputId": "b8803234-bf16-448d-fcf8-157bc1caf8db"
      },
      "execution_count": 5,
      "outputs": [
        {
          "output_type": "stream",
          "name": "stdout",
          "text": [
            "請輸入大於1的正整數8\n",
            "7\n"
          ]
        }
      ]
    },
    {
      "cell_type": "code",
      "source": [
        "n=input('請輸入數字:')\n",
        "n=n.split(',')\n",
        "L=len(n)\n",
        "b=[]\n",
        "for i in range(0,L):\n",
        "  a=0\n",
        "  for j in range(0,L):\n",
        "    if int(n[i])>int(n[j]):\n",
        "      a+=1\n",
        "  b.append(a)\n",
        "print(b)"
      ],
      "metadata": {
        "colab": {
          "base_uri": "https://localhost:8080/"
        },
        "id": "MJ3qu-QUtMz6",
        "outputId": "8b8fd439-d82b-47a1-8f78-c89f46d1c9ea"
      },
      "execution_count": 6,
      "outputs": [
        {
          "output_type": "stream",
          "name": "stdout",
          "text": [
            "請輸入數字:2,8,4,9,3\n",
            "[0, 3, 2, 4, 1]\n"
          ]
        }
      ]
    },
    {
      "cell_type": "code",
      "source": [
        "a = input(\"請輸入一串由零與一組成的數列\")\n",
        "b = len(a)\n",
        "ans = []\n",
        "for i in range (0,b):\n",
        "  num = 0\n",
        "  for j in range (0,b):\n",
        "    if (int(a[j])==1):\n",
        "      if(j>i):\n",
        "        num+=j-i\n",
        "      else:\n",
        "        num+=i-j\n",
        "  ans.append(num)\n",
        "print(ans)"
      ],
      "metadata": {
        "id": "VXrqlVhNuj49",
        "outputId": "34693f9c-4be6-4cc2-db59-042ba6b9ce63",
        "colab": {
          "base_uri": "https://localhost:8080/"
        }
      },
      "execution_count": 7,
      "outputs": [
        {
          "output_type": "stream",
          "name": "stdout",
          "text": [
            "請輸入一串由零與一組成的數列0110101\n",
            "[13, 9, 7, 7, 7, 9, 11]\n"
          ]
        }
      ]
    }
  ]
}