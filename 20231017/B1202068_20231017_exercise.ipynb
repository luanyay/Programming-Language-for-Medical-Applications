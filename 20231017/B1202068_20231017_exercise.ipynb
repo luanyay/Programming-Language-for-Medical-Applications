{
  "nbformat": 4,
  "nbformat_minor": 0,
  "metadata": {
    "colab": {
      "provenance": []
    },
    "kernelspec": {
      "name": "python3",
      "display_name": "Python 3"
    },
    "language_info": {
      "name": "python"
    }
  },
  "cells": [
    {
      "cell_type": "code",
      "source": [
        "for i in range (1,10):\n",
        "  for j in range (1,10):\n",
        "    result =i*j\n",
        "    print(f'{i} x {j } = {result:1} ',end=' \\t')\n",
        "  print()"
      ],
      "metadata": {
        "colab": {
          "base_uri": "https://localhost:8080/"
        },
        "id": "GEX27YKDnXop",
        "outputId": "e403f27a-4634-4737-935c-4aca53d24c1c"
      },
      "execution_count": null,
      "outputs": [
        {
          "output_type": "stream",
          "name": "stdout",
          "text": [
            "1 x 1 = 1  \t1 x 2 = 2  \t1 x 3 = 3  \t1 x 4 = 4  \t1 x 5 = 5  \t1 x 6 = 6  \t1 x 7 = 7  \t1 x 8 = 8  \t1 x 9 = 9  \t\n",
            "2 x 1 = 2  \t2 x 2 = 4  \t2 x 3 = 6  \t2 x 4 = 8  \t2 x 5 = 10  \t2 x 6 = 12  \t2 x 7 = 14  \t2 x 8 = 16  \t2 x 9 = 18  \t\n",
            "3 x 1 = 3  \t3 x 2 = 6  \t3 x 3 = 9  \t3 x 4 = 12  \t3 x 5 = 15  \t3 x 6 = 18  \t3 x 7 = 21  \t3 x 8 = 24  \t3 x 9 = 27  \t\n",
            "4 x 1 = 4  \t4 x 2 = 8  \t4 x 3 = 12  \t4 x 4 = 16  \t4 x 5 = 20  \t4 x 6 = 24  \t4 x 7 = 28  \t4 x 8 = 32  \t4 x 9 = 36  \t\n",
            "5 x 1 = 5  \t5 x 2 = 10  \t5 x 3 = 15  \t5 x 4 = 20  \t5 x 5 = 25  \t5 x 6 = 30  \t5 x 7 = 35  \t5 x 8 = 40  \t5 x 9 = 45  \t\n",
            "6 x 1 = 6  \t6 x 2 = 12  \t6 x 3 = 18  \t6 x 4 = 24  \t6 x 5 = 30  \t6 x 6 = 36  \t6 x 7 = 42  \t6 x 8 = 48  \t6 x 9 = 54  \t\n",
            "7 x 1 = 7  \t7 x 2 = 14  \t7 x 3 = 21  \t7 x 4 = 28  \t7 x 5 = 35  \t7 x 6 = 42  \t7 x 7 = 49  \t7 x 8 = 56  \t7 x 9 = 63  \t\n",
            "8 x 1 = 8  \t8 x 2 = 16  \t8 x 3 = 24  \t8 x 4 = 32  \t8 x 5 = 40  \t8 x 6 = 48  \t8 x 7 = 56  \t8 x 8 = 64  \t8 x 9 = 72  \t\n",
            "9 x 1 = 9  \t9 x 2 = 18  \t9 x 3 = 27  \t9 x 4 = 36  \t9 x 5 = 45  \t9 x 6 = 54  \t9 x 7 = 63  \t9 x 8 = 72  \t9 x 9 = 81  \t\n"
          ]
        }
      ]
    },
    {
      "cell_type": "code",
      "source": [
        "i = 1\n",
        "while (i <=9):\n",
        "  j = 1\n",
        "  while (j<=9):\n",
        "    result = i*j\n",
        "    print (f'{j} x {i} = {result:1} ', end=' \\t')\n",
        "    j += 1\n",
        "  print()\n",
        "  i += 1"
      ],
      "metadata": {
        "colab": {
          "base_uri": "https://localhost:8080/"
        },
        "id": "jn9V_vHHpoTJ",
        "outputId": "73308d71-9d11-4475-c34c-220c4662c374"
      },
      "execution_count": null,
      "outputs": [
        {
          "output_type": "stream",
          "name": "stdout",
          "text": [
            "1 x 1 = 1  \t2 x 1 = 2  \t3 x 1 = 3  \t4 x 1 = 4  \t5 x 1 = 5  \t6 x 1 = 6  \t7 x 1 = 7  \t8 x 1 = 8  \t9 x 1 = 9  \t\n",
            "1 x 2 = 2  \t2 x 2 = 4  \t3 x 2 = 6  \t4 x 2 = 8  \t5 x 2 = 10  \t6 x 2 = 12  \t7 x 2 = 14  \t8 x 2 = 16  \t9 x 2 = 18  \t\n",
            "1 x 3 = 3  \t2 x 3 = 6  \t3 x 3 = 9  \t4 x 3 = 12  \t5 x 3 = 15  \t6 x 3 = 18  \t7 x 3 = 21  \t8 x 3 = 24  \t9 x 3 = 27  \t\n",
            "1 x 4 = 4  \t2 x 4 = 8  \t3 x 4 = 12  \t4 x 4 = 16  \t5 x 4 = 20  \t6 x 4 = 24  \t7 x 4 = 28  \t8 x 4 = 32  \t9 x 4 = 36  \t\n",
            "1 x 5 = 5  \t2 x 5 = 10  \t3 x 5 = 15  \t4 x 5 = 20  \t5 x 5 = 25  \t6 x 5 = 30  \t7 x 5 = 35  \t8 x 5 = 40  \t9 x 5 = 45  \t\n",
            "1 x 6 = 6  \t2 x 6 = 12  \t3 x 6 = 18  \t4 x 6 = 24  \t5 x 6 = 30  \t6 x 6 = 36  \t7 x 6 = 42  \t8 x 6 = 48  \t9 x 6 = 54  \t\n",
            "1 x 7 = 7  \t2 x 7 = 14  \t3 x 7 = 21  \t4 x 7 = 28  \t5 x 7 = 35  \t6 x 7 = 42  \t7 x 7 = 49  \t8 x 7 = 56  \t9 x 7 = 63  \t\n",
            "1 x 8 = 8  \t2 x 8 = 16  \t3 x 8 = 24  \t4 x 8 = 32  \t5 x 8 = 40  \t6 x 8 = 48  \t7 x 8 = 56  \t8 x 8 = 64  \t9 x 8 = 72  \t\n",
            "1 x 9 = 9  \t2 x 9 = 18  \t3 x 9 = 27  \t4 x 9 = 36  \t5 x 9 = 45  \t6 x 9 = 54  \t7 x 9 = 63  \t8 x 9 = 72  \t9 x 9 = 81  \t\n"
          ]
        }
      ]
    }
  ]
}