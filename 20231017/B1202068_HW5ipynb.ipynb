{
  "nbformat": 4,
  "nbformat_minor": 0,
  "metadata": {
    "colab": {
      "provenance": []
    },
    "kernelspec": {
      "name": "python3",
      "display_name": "Python 3"
    },
    "language_info": {
      "name": "python"
    }
  },
  "cells": [
    {
      "cell_type": "code",
      "execution_count": 2,
      "metadata": {
        "colab": {
          "base_uri": "https://localhost:8080/"
        },
        "id": "0J6--o_EIOJp",
        "outputId": "1cf39f32-94f0-4d61-f625-06915bbbe726"
      },
      "outputs": [
        {
          "output_type": "stream",
          "name": "stdout",
          "text": [
            "        *        \n",
            "       ***       \n",
            "      *****      \n",
            "     *******     \n",
            "    *********    \n",
            "   ***********   \n",
            "  *************  \n",
            " *************** \n",
            "*****************\n",
            "       ***       \n",
            "       ***       \n",
            "       ***       \n",
            "       ***       \n",
            "       ***       \n"
          ]
        }
      ],
      "source": [
        "n = 9\n",
        "for i in range (1,n+1):\n",
        "  ans ='*'*(2*i-1)\n",
        "  print('{0:^{width}}'.format(ans, width=2*n-1))\n",
        "\n",
        "for i in range(1,6):\n",
        "  a='*'*3\n",
        "  print('{0:^{width}}'.format(a,width=2*n-1))"
      ]
    },
    {
      "cell_type": "code",
      "source": [
        "import random\n",
        "\n",
        "secret_number = random.sample(range(1,10),4)\n",
        "attempts = 0\n",
        "\n",
        "print(secret_number)\n",
        "\n",
        "while True:\n",
        "  user_input = input(\"請輸入一個4位數字: \")\n",
        "\n",
        "  a = 0\n",
        "  b = 0\n",
        "\n",
        "  if len(user_input) != 4 or not user_input.isdigit():\n",
        "    print(\"請輸入有效的4位數字。\")\n",
        "    continue\n",
        "\n",
        "  guess = [int(digit) for digit in user_input]\n",
        "  attempts+=1\n",
        "\n",
        "  for i in range(4):\n",
        "    if guess[i] ==secret_number[i]:\n",
        "      a+=1\n",
        "    elif guess[i] in secret_number:\n",
        "      b+=1\n",
        "\n",
        "  if a ==4:\n",
        "    print(f\"恭喜你猜對了!答案是{secret_number}。你總共猜了{attempts}次。\")\n",
        "    break\n",
        "  else:\n",
        "    print(f\"{a}A{b}B\")"
      ],
      "metadata": {
        "colab": {
          "base_uri": "https://localhost:8080/"
        },
        "id": "WUDX12idLIbc",
        "outputId": "38a00374-bf3e-4be2-8b66-07591bb185b0"
      },
      "execution_count": 6,
      "outputs": [
        {
          "output_type": "stream",
          "name": "stdout",
          "text": [
            "[4, 8, 6, 5]\n",
            "請輸入一個4位數字: 12345\n",
            "請輸入有效的4位數字。\n",
            "請輸入一個4位數字: 2451\n",
            "0A2B\n",
            "請輸入一個4位數字: 1354\n",
            "0A2B\n",
            "請輸入一個4位數字: 2319\n",
            "0A0B\n",
            "請輸入一個4位數字: 4856\n",
            "2A2B\n",
            "請輸入一個4位數字: 4865\n",
            "恭喜你猜對了!答案是[4, 8, 6, 5]。你總共猜了5次。\n"
          ]
        }
      ]
    }
  ]
}