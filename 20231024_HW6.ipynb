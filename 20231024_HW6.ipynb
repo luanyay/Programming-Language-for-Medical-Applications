{
  "nbformat": 4,
  "nbformat_minor": 0,
  "metadata": {
    "colab": {
      "provenance": []
    },
    "kernelspec": {
      "name": "python3",
      "display_name": "Python 3"
    },
    "language_info": {
      "name": "python"
    }
  },
  "cells": [
    {
      "cell_type": "code",
      "source": [
        "tree=int(input(\"輸入樹的高度(至少大於7)\"))\n",
        "\n",
        "s=1\n",
        "if tree<7:\n",
        "  print(\"樹的高度至少大於7\")\n",
        "else:\n",
        "\n",
        "  for i in range(tree):\n",
        "    print((' '*(tree-i)+('*'*s)))\n",
        "    s+=2\n",
        "  for a in range (5):\n",
        "    print((' '*(tree-1))+'***')"
      ],
      "metadata": {
        "colab": {
          "base_uri": "https://localhost:8080/"
        },
        "id": "Ima0egijNrxe",
        "outputId": "b2b71817-26a4-4c5f-d4f9-26d8764e6fb6"
      },
      "execution_count": null,
      "outputs": [
        {
          "output_type": "stream",
          "name": "stdout",
          "text": [
            "輸入樹的高度(至少大於7)9\n",
            "         *\n",
            "        ***\n",
            "       *****\n",
            "      *******\n",
            "     *********\n",
            "    ***********\n",
            "   *************\n",
            "  ***************\n",
            " *****************\n",
            "        ***\n",
            "        ***\n",
            "        ***\n",
            "        ***\n",
            "        ***\n"
          ]
        }
      ]
    },
    {
      "cell_type": "code",
      "source": [
        "def bmi (height, weight):\n",
        "    result = weight/(((height)/100)**2)\n",
        "    return result\n",
        "\n",
        "a = int(input('身高(cm):'))\n",
        "b = int(input('體重(kg):'))\n",
        "c = bmi(a,b)\n",
        "if c<18.5:\n",
        "    print('BMI:',(c))\n",
        "    print('體位過輕')\n",
        "elif 18.5<=c<24:\n",
        "    print('BMI:',(c))\n",
        "    print('體位適中')\n",
        "elif 24<=c<27:\n",
        "    print('BMI:',(c))\n",
        "    print('體位過重')\n",
        "else:\n",
        "    print('BMI:',(c))\n",
        "    print('體位肥胖')"
      ],
      "metadata": {
        "id": "p-52T-NzP8mK",
        "colab": {
          "base_uri": "https://localhost:8080/"
        },
        "outputId": "2aab90a5-1640-4aca-bf08-250cdd9934d4"
      },
      "execution_count": 4,
      "outputs": [
        {
          "output_type": "stream",
          "name": "stdout",
          "text": [
            "身高(cm):165\n",
            "體重(kg):60\n",
            "BMI: 22.03856749311295\n",
            "體位適中\n"
          ]
        }
      ]
    }
  ]
}