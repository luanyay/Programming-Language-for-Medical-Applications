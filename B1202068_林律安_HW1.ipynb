{
  "nbformat": 4,
  "nbformat_minor": 0,
  "metadata": {
    "colab": {
      "provenance": []
    },
    "kernelspec": {
      "name": "python3",
      "display_name": "Python 3"
    },
    "language_info": {
      "name": "python"
    }
  },
  "cells": [
    {
      "cell_type": "code",
      "execution_count": null,
      "metadata": {
        "colab": {
          "base_uri": "https://localhost:8080/"
        },
        "id": "TIOhsschRVO6",
        "outputId": "2b9cb55a-ec5b-42f9-f128-cac76d36c0fb"
      },
      "outputs": [
        {
          "output_type": "stream",
          "name": "stdout",
          "text": [
            "Hello world! My name is Lu-An Anna Lin. I'm so excited about joining this programming class and get to know more about coding.(⊙ᗜ⊙).\n"
          ]
        }
      ],
      "source": [
        "x = \"Hello world! My name is Lu-An Anna Lin. I'm so excited about joining this programming class and get to know more about coding.(⊙ᗜ⊙).\"\n",
        "print (x)"
      ]
    }
  ]
}